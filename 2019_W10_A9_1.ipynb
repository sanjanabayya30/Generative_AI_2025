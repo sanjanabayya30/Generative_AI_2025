{
  "nbformat": 4,
  "nbformat_minor": 0,
  "metadata": {
    "colab": {
      "provenance": [],
      "authorship_tag": "ABX9TyNzSob6U7MES+knGLEY7bWf",
      "include_colab_link": true
    },
    "kernelspec": {
      "name": "python3",
      "display_name": "Python 3"
    },
    "language_info": {
      "name": "python"
    }
  },
  "cells": [
    {
      "cell_type": "markdown",
      "metadata": {
        "id": "view-in-github",
        "colab_type": "text"
      },
      "source": [
        "<a href=\"https://colab.research.google.com/github/sanjanabayya30/Generative_AI_2025/blob/main/2019_W10_A9_1.ipynb\" target=\"_parent\"><img src=\"https://colab.research.google.com/assets/colab-badge.svg\" alt=\"Open In Colab\"/></a>"
      ]
    },
    {
      "cell_type": "code",
      "source": [
        "import numpy as np\n",
        "import tensorflow as tf\n",
        "from tensorflow.keras.datasets import mnist\n",
        "from tensorflow.keras.models import Sequential\n",
        "from tensorflow.keras.layers import Dense, Flatten\n",
        "from tensorflow.keras.utils import to_categorical\n",
        "from tensorflow.keras.optimizers import Adadelta\n",
        "\n",
        "# Load MNIST data\n",
        "(x_train, y_train), (x_test, y_test) = mnist.load_data()\n",
        "\n",
        "# Normalize images\n",
        "x_train = x_train / 255.0\n",
        "x_test = x_test / 255.0\n",
        "\n",
        "# One-hot encode labels\n",
        "y_train_cat = to_categorical(y_train, 10)\n",
        "y_test_cat = to_categorical(y_test, 10)"
      ],
      "metadata": {
        "id": "27K22_e7vF9I"
      },
      "execution_count": 12,
      "outputs": []
    },
    {
      "cell_type": "code",
      "source": [
        "# Build the model\n",
        "model = Sequential([\n",
        "    Flatten(input_shape=(28, 28)),\n",
        "    Dense(32, activation='relu'),\n",
        "    Dense(32, activation='relu'),\n",
        "    Dense(32, activation='relu'),\n",
        "    Dense(10, activation='softmax')\n",
        "])\n",
        "\n",
        "# Compile the model\n",
        "model.compile(optimizer=Adadelta(),\n",
        "              loss='categorical_crossentropy',\n",
        "              metrics=['accuracy'])\n",
        "\n",
        "# Train the model\n",
        "history = model.fit(x_train, y_train_cat,\n",
        "                    epochs=10,\n",
        "                    batch_size=128,\n",
        "                    validation_data=(x_test, y_test_cat),\n",
        "                    verbose=2)\n"
      ],
      "metadata": {
        "colab": {
          "base_uri": "https://localhost:8080/"
        },
        "id": "Wy8BxZbBuk2e",
        "outputId": "9c700fe5-0262-4bed-dc3d-7744bffe4c35"
      },
      "execution_count": 13,
      "outputs": [
        {
          "output_type": "stream",
          "name": "stdout",
          "text": [
            "Epoch 1/10\n",
            "469/469 - 3s - 6ms/step - accuracy: 0.1078 - loss: 2.3078 - val_accuracy: 0.1046 - val_loss: 2.3031\n",
            "Epoch 2/10\n",
            "469/469 - 1s - 3ms/step - accuracy: 0.1115 - loss: 2.2952 - val_accuracy: 0.1091 - val_loss: 2.2904\n",
            "Epoch 3/10\n",
            "469/469 - 2s - 4ms/step - accuracy: 0.1132 - loss: 2.2826 - val_accuracy: 0.1103 - val_loss: 2.2774\n",
            "Epoch 4/10\n",
            "469/469 - 2s - 5ms/step - accuracy: 0.1137 - loss: 2.2696 - val_accuracy: 0.1112 - val_loss: 2.2640\n",
            "Epoch 5/10\n",
            "469/469 - 1s - 3ms/step - accuracy: 0.1136 - loss: 2.2560 - val_accuracy: 0.1102 - val_loss: 2.2500\n",
            "Epoch 6/10\n",
            "469/469 - 1s - 3ms/step - accuracy: 0.1133 - loss: 2.2419 - val_accuracy: 0.1106 - val_loss: 2.2353\n",
            "Epoch 7/10\n",
            "469/469 - 3s - 6ms/step - accuracy: 0.1134 - loss: 2.2271 - val_accuracy: 0.1107 - val_loss: 2.2199\n",
            "Epoch 8/10\n",
            "469/469 - 1s - 3ms/step - accuracy: 0.1137 - loss: 2.2117 - val_accuracy: 0.1114 - val_loss: 2.2042\n",
            "Epoch 9/10\n",
            "469/469 - 3s - 6ms/step - accuracy: 0.1158 - loss: 2.1961 - val_accuracy: 0.1142 - val_loss: 2.1883\n",
            "Epoch 10/10\n",
            "469/469 - 2s - 4ms/step - accuracy: 0.1199 - loss: 2.1801 - val_accuracy: 0.1189 - val_loss: 2.1720\n"
          ]
        }
      ]
    },
    {
      "cell_type": "code",
      "source": [
        "# Evaluate the model\n",
        "train_loss, train_acc = model.evaluate(x_train, y_train_cat, verbose=0)\n",
        "test_loss, test_acc = model.evaluate(x_test, y_test_cat, verbose=0)\n",
        "\n",
        "print(\"Training Accuracy: {:.4f}\".format(train_acc))\n",
        "print(\"Testing Accuracy: {:.4f}\".format(test_acc))"
      ],
      "metadata": {
        "colab": {
          "base_uri": "https://localhost:8080/"
        },
        "id": "psKyB1kCupDp",
        "outputId": "a29d1ea6-8eed-4d8c-9310-6a97dc8bbd27"
      },
      "execution_count": 14,
      "outputs": [
        {
          "output_type": "stream",
          "name": "stdout",
          "text": [
            "Training Accuracy: 0.1229\n",
            "Testing Accuracy: 0.1189\n"
          ]
        }
      ]
    },
    {
      "cell_type": "code",
      "source": [
        "model2 = Sequential([\n",
        "    Flatten(input_shape=(28, 28)),\n",
        "    Dense(64, activation='relu'),\n",
        "    Dense(64, activation='relu'),\n",
        "    Dense(10, activation='softmax')\n",
        "])\n",
        "model2.compile(optimizer='adam', loss='categorical_crossentropy', metrics=['accuracy'])\n",
        "model2.fit(x_train, y_train_cat, epochs=10, batch_size=128, verbose=0)\n",
        "_, test_acc2 = model2.evaluate(x_test, y_test_cat, verbose=0)\n",
        "print(\"Model 2 (64-64, relu, adam) Test Accuracy: {:.4f}\".format(test_acc2))"
      ],
      "metadata": {
        "colab": {
          "base_uri": "https://localhost:8080/"
        },
        "id": "zi322Sk6usYT",
        "outputId": "d71c4536-27c6-4af6-8f95-1614dc3ee3a2"
      },
      "execution_count": 15,
      "outputs": [
        {
          "output_type": "stream",
          "name": "stdout",
          "text": [
            "Model 2 (64-64, relu, adam) Test Accuracy: 0.9718\n"
          ]
        }
      ]
    },
    {
      "cell_type": "code",
      "source": [
        "model3 = Sequential([\n",
        "    Flatten(input_shape=(28, 28)),\n",
        "    Dense(64, activation='tanh'),\n",
        "    Dense(32, activation='tanh'),\n",
        "    Dense(16, activation='tanh'),\n",
        "    Dense(10, activation='softmax')\n",
        "])\n",
        "model3.compile(optimizer='adam', loss='categorical_crossentropy', metrics=['accuracy'])\n",
        "model3.fit(x_train, y_train_cat, epochs=10, batch_size=128, verbose=0)\n",
        "_, test_acc3 = model3.evaluate(x_test, y_test_cat, verbose=0)\n",
        "print(\"Model 3 (64-32-16, tanh, adam) Test Accuracy: {:.4f}\".format(test_acc3))"
      ],
      "metadata": {
        "colab": {
          "base_uri": "https://localhost:8080/"
        },
        "id": "JdlwsQfsuy-a",
        "outputId": "710b6926-8a99-481e-95db-3b909d9bd1f5"
      },
      "execution_count": 16,
      "outputs": [
        {
          "output_type": "stream",
          "name": "stdout",
          "text": [
            "Model 3 (64-32-16, tanh, adam) Test Accuracy: 0.9692\n"
          ]
        }
      ]
    }
  ]
}