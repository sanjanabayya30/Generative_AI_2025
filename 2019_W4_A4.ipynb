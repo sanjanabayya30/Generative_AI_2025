{
  "nbformat": 4,
  "nbformat_minor": 0,
  "metadata": {
    "colab": {
      "provenance": [],
      "authorship_tag": "ABX9TyPjFl0QsqR+TroF5UXw26N2",
      "include_colab_link": true
    },
    "kernelspec": {
      "name": "python3",
      "display_name": "Python 3"
    },
    "language_info": {
      "name": "python"
    }
  },
  "cells": [
    {
      "cell_type": "markdown",
      "metadata": {
        "id": "view-in-github",
        "colab_type": "text"
      },
      "source": [
        "<a href=\"https://colab.research.google.com/github/sanjanabayya30/Generative_AI_2025/blob/main/2019_W4_A4.ipynb\" target=\"_parent\"><img src=\"https://colab.research.google.com/assets/colab-badge.svg\" alt=\"Open In Colab\"/></a>"
      ]
    },
    {
      "cell_type": "code",
      "execution_count": 3,
      "metadata": {
        "colab": {
          "base_uri": "https://localhost:8080/"
        },
        "id": "fN5UM5ZeAjzY",
        "outputId": "efdd2ae0-d401-4c04-cc34-f9b7dd25ee98"
      },
      "outputs": [
        {
          "output_type": "stream",
          "name": "stdout",
          "text": [
            "Mean Squared Error on Training Data:  6.461155629091917e-07\n",
            "Mean Squared Error on Test Data:  3.355917456997702e-06\n",
            "Enter three numbers separated by space: 0.7 0.8 0.9\n",
            "Predicted output:  [0.50196332]\n"
          ]
        }
      ],
      "source": [
        "import numpy as np\n",
        "\n",
        "# Define the training data\n",
        "X_train = np.array([[0.1, 0.2, 0.3],\n",
        "                     [0.2, 0.3, 0.4],\n",
        "                     [0.3, 0.4, 0.5],\n",
        "                     [0.5, 0.6, 0.7],\n",
        "                     [0.1, 0.3, 0.5],\n",
        "                     [0.2, 0.4, 0.6],\n",
        "                     [0.3, 0.5, 0.7],\n",
        "                     [0.4, 0.6, 0.8],\n",
        "                     [0.5, 0.7, 0.1]])\n",
        "\n",
        "y_train = np.array([0.14, 0.20, 0.26, 0.38, 0.22, 0.28, 0.34, 0.40, 0.22])\n",
        "\n",
        "# Define the testing data\n",
        "X_test = np.array([[0.6, 0.7, 0.8],\n",
        "                    [0.7, 0.8, 0.9]])\n",
        "\n",
        "y_test = np.array([0.44, 0.50])\n",
        "\n",
        "# Initialize the weights and bias\n",
        "np.random.seed(0)\n",
        "weights = np.random.rand(3)\n",
        "bias = np.random.rand(1)\n",
        "\n",
        "# Define the learning rate and number of epochs\n",
        "learning_rate = 0.01\n",
        "epochs = 1000\n",
        "\n",
        "# Train the model\n",
        "for epoch in range(epochs):\n",
        "    # Forward pass\n",
        "    output = np.dot(X_train, weights) + bias\n",
        "\n",
        "    # Calculate the error\n",
        "    error = output - y_train\n",
        "\n",
        "    # Calculate the mean squared error\n",
        "    mse = np.mean(error ** 2)\n",
        "\n",
        "    # Backward pass\n",
        "    d_output = 2 * error\n",
        "    d_weights = np.dot(X_train.T, d_output)\n",
        "    d_bias = np.sum(d_output, axis=0, keepdims=True)\n",
        "\n",
        "    # Update the weights and bias\n",
        "    weights -= learning_rate * d_weights\n",
        "    bias -= learning_rate * d_bias\n",
        "\n",
        "# Make predictions on the test data\n",
        "test_output = np.dot(X_test, weights) + bias\n",
        "\n",
        "# Calculate the mean squared error on the test data\n",
        "test_mse = np.mean((test_output - y_test) ** 2)\n",
        "\n",
        "print(\"Mean Squared Error on Training Data: \", mse)\n",
        "print(\"Mean Squared Error on Test Data: \", test_mse)\n",
        "\n",
        "# Read input data from the user\n",
        "user_input = np.array([float(x) for x in input(\"Enter three numbers separated by space: \").split()])\n",
        "\n",
        "# Make a prediction with the deployed ANN model\n",
        "prediction = np.dot(user_input, weights) + bias\n",
        "print(\"Predicted output: \", prediction)"
      ]
    },
    {
      "cell_type": "code",
      "source": [
        "import numpy as np\n",
        "\n",
        "# Define the training data\n",
        "X_train = np.array([[0.1, 0.2, 0.3],\n",
        "                     [0.2, 0.3, 0.4],\n",
        "                     [0.3, 0.4, 0.5],\n",
        "                     [0.5, 0.6, 0.7],\n",
        "                     [0.1, 0.3, 0.5],\n",
        "                     [0.2, 0.4, 0.6],\n",
        "                     [0.3, 0.5, 0.7],\n",
        "                     [0.4, 0.6, 0.8],\n",
        "                     [0.5, 0.7, 0.1]])\n",
        "\n",
        "y_train = np.array([0.5349, 0.5498, 0.5646, 0.5939, 0.5548, 0.5695, 0.5842, 0.5987, 0.5548])\n",
        "\n",
        "# Define the testing data\n",
        "X_test = np.array([[0.6, 0.7, 0.8],\n",
        "                    [0.7, 0.8, 0.9]])\n",
        "\n",
        "y_test = np.array([0.6083, 0.6225])\n",
        "\n",
        "# Define the sigmoid activation function\n",
        "def sigmoid(x):\n",
        "    return 1 / (1 + np.exp(-x))\n",
        "\n",
        "# Define the derivative of the sigmoid activation function\n",
        "def sigmoid_derivative(x):\n",
        "    return x * (1 - x)\n",
        "\n",
        "# Initialize the weights and bias\n",
        "np.random.seed(0)\n",
        "weights = np.random.rand(3)\n",
        "bias = np.random.rand(1)\n",
        "\n",
        "# Define the learning rate and number of epochs\n",
        "learning_rate = 0.01\n",
        "epochs = 1000\n",
        "\n",
        "# Train the model\n",
        "for epoch in range(epochs):\n",
        "    # Forward pass\n",
        "    output = sigmoid(np.dot(X_train, weights) + bias)\n",
        "\n",
        "    # Calculate the error\n",
        "    error = output - y_train\n",
        "\n",
        "    # Calculate the mean squared error\n",
        "    mse = np.mean(error ** 2)\n",
        "\n",
        "    # Backward pass\n",
        "    d_output = error * sigmoid_derivative(output)\n",
        "    d_weights = np.dot(X_train.T, d_output)\n",
        "    d_bias = np.sum(d_output, axis=0, keepdims=True)\n",
        "\n",
        "    # Update the weights and bias\n",
        "    weights -= learning_rate * d_weights\n",
        "    bias -= learning_rate * d_bias\n",
        "\n",
        "# Calculate the mean squared error with training and testing data\n",
        "train_mse = mse\n",
        "test_output = sigmoid(np.dot(X_test, weights) + bias)\n",
        "test_mse = np.mean((test_output - y_test) ** 2)\n",
        "\n",
        "print(\"Mean Squared Error on Training Data: \", train_mse)\n",
        "print(\"Mean Squared Error on Testing Data: \", test_mse)\n",
        "\n",
        "# Read input data from the user\n",
        "user_input = np.array([float(x) for x in input(\"Enter three numbers separated by space: \").split()])\n",
        "\n",
        "# Predict the output with deployed ANN model\n",
        "prediction = sigmoid(np.dot(user_input, weights) + bias)\n",
        "print(\"Predicted output: \", prediction)"
      ],
      "metadata": {
        "colab": {
          "base_uri": "https://localhost:8080/"
        },
        "id": "ldk69_bMIvZy",
        "outputId": "2ac2fe60-991a-4759-cd84-cd9d24d46326"
      },
      "execution_count": 15,
      "outputs": [
        {
          "output_type": "stream",
          "name": "stdout",
          "text": [
            "Mean Squared Error on Training Data:  0.0001927055493352838\n",
            "Mean Squared Error on Testing Data:  0.0007164986865162088\n",
            "Enter three numbers separated by space: 0.7 0.8 0.9\n",
            "Predicted output:  [0.65277283]\n"
          ]
        }
      ]
    }
  ]
}